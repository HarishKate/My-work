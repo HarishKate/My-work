{
 "cells": [
  {
   "cell_type": "code",
   "execution_count": 1,
   "id": "9ffa856d",
   "metadata": {},
   "outputs": [],
   "source": [
    "import pandas as pd\n",
    "import numpy as np\n",
    "import matplotlib.pyplot as plt"
   ]
  },
  {
   "cell_type": "code",
   "execution_count": 2,
   "id": "59debf97",
   "metadata": {},
   "outputs": [],
   "source": [
    "data= pd.read_csv(\"C:\\\\Users\\\\Harish Kate\\\\Documents\\\\Credit Card Defaulter Prediction.csv\")"
   ]
  },
  {
   "cell_type": "code",
   "execution_count": null,
   "id": "a769021c",
   "metadata": {},
   "outputs": [],
   "source": [
    "data"
   ]
  },
  {
   "cell_type": "code",
   "execution_count": null,
   "id": "b9bf351a",
   "metadata": {},
   "outputs": [],
   "source": [
    "data.info()"
   ]
  },
  {
   "cell_type": "code",
   "execution_count": null,
   "id": "75681d89",
   "metadata": {},
   "outputs": [],
   "source": [
    "data.isna().sum()"
   ]
  },
  {
   "cell_type": "code",
   "execution_count": null,
   "id": "f146ed9c",
   "metadata": {},
   "outputs": [],
   "source": [
    "data.boxplot(figsize = (30,10))"
   ]
  },
  {
   "cell_type": "code",
   "execution_count": 3,
   "id": "7c0bc4f4",
   "metadata": {},
   "outputs": [
    {
     "name": "stdout",
     "output_type": "stream",
     "text": [
      "50000.0\n"
     ]
    }
   ],
   "source": [
    "#to check outliers\n",
    "\n",
    "q1 = data['LIMIT_BAL'].quantile(0.25)\n",
    "Q2 = data['LIMIT_BAL'].quantile(0.5)\n",
    "q3 = data['LIMIT_BAL'].quantile(0.75)\n",
    "\n",
    "IQR = q3-q1\n",
    "IQR\n",
    "OUT1=q3+1.5*IQR\n",
    "print(OUT1)\n"
   ]
  },
  {
   "cell_type": "code",
   "execution_count": 4,
   "id": "efb8d8b6",
   "metadata": {},
   "outputs": [
    {
     "data": {
      "text/plain": [
       "10000"
      ]
     },
     "execution_count": 4,
     "metadata": {},
     "output_type": "execute_result"
    }
   ],
   "source": [
    "#TREATIN OUTLIERS\n",
    "\n",
    "data.loc[data.LIMIT_BAL > 52500 , 'LIMIT_BAL']=50000\n",
    "data['LIMIT_BAL'].min()                "
   ]
  },
  {
   "cell_type": "code",
   "execution_count": 5,
   "id": "100ddbd2",
   "metadata": {},
   "outputs": [
    {
     "data": {
      "text/plain": [
       "10000"
      ]
     },
     "execution_count": 5,
     "metadata": {},
     "output_type": "execute_result"
    }
   ],
   "source": [
    "##for upper outliers\n",
    "data['LIMIT_BAL'].max()\n",
    "upper_out= data['LIMIT_BAL'].quantile(0.99)\n",
    "data.loc[data.LIMIT_BAL > upper_out,'LIMIT_BAL']= upper_out\n",
    "data['LIMIT_BAL'].max()\n",
    "\n",
    "\n",
    "##for lower outliers\n",
    "data['LIMIT_BAL'].min()\n",
    "lower_out= data['LIMIT_BAL'].quantile(0.01)\n",
    "data.loc[data.LIMIT_BAL > upper_out,'LIMIT_BAL']= lower_out\n",
    "data['LIMIT_BAL'].min()"
   ]
  },
  {
   "cell_type": "code",
   "execution_count": 6,
   "id": "656fd67a",
   "metadata": {},
   "outputs": [
    {
     "name": "stdout",
     "output_type": "stream",
     "text": [
      "cutting the LIMIT_BAL\n"
     ]
    },
    {
     "name": "stderr",
     "output_type": "stream",
     "text": [
      "C:\\Users\\Harish Kate\\AppData\\Local\\Temp\\ipykernel_16900\\3291368164.py:8: SettingWithCopyWarning: \n",
      "A value is trying to be set on a copy of a slice from a DataFrame\n",
      "\n",
      "See the caveats in the documentation: https://pandas.pydata.org/pandas-docs/stable/user_guide/indexing.html#returning-a-view-versus-a-copy\n",
      "  df[column][df[column] <= percentiles[0]] = percentiles[0]\n",
      "C:\\Users\\Harish Kate\\AppData\\Local\\Temp\\ipykernel_16900\\3291368164.py:9: SettingWithCopyWarning: \n",
      "A value is trying to be set on a copy of a slice from a DataFrame\n",
      "\n",
      "See the caveats in the documentation: https://pandas.pydata.org/pandas-docs/stable/user_guide/indexing.html#returning-a-view-versus-a-copy\n",
      "  df[column][df[column] >= percentiles[1]] = percentiles[1]\n"
     ]
    },
    {
     "name": "stdout",
     "output_type": "stream",
     "text": [
      "cutting the AGE\n",
      "cutting the PAY_0\n",
      "cutting the PAY_2\n",
      "cutting the PAY_3\n",
      "cutting the PAY_4\n",
      "cutting the PAY_5\n",
      "cutting the PAY_6\n",
      "cutting the BILL_AMT1\n",
      "cutting the BILL_AMT2\n",
      "cutting the BILL_AMT3\n",
      "cutting the BILL_AMT4\n",
      "cutting the BILL_AMT5\n",
      "cutting the BILL_AMT6\n",
      "cutting the PAY_AMT1\n",
      "cutting the PAY_AMT2\n",
      "cutting the PAY_AMT3\n",
      "cutting the PAY_AMT4\n",
      "cutting the PAY_AMT5\n",
      "cutting the PAY_AMT6\n",
      "cutting the SEX_M\n",
      "cutting the EDUCATION_Graduate school\n",
      "cutting the EDUCATION_High School\n",
      "cutting the EDUCATION_Others\n",
      "cutting the EDUCATION_University\n",
      "cutting the EDUCATION_Unknown\n",
      "cutting the MARRIAGE_Married\n",
      "cutting the MARRIAGE_Other\n",
      "cutting the MARRIAGE_Single\n"
     ]
    }
   ],
   "source": [
    "####code for multiple columns\n",
    "\n",
    "def cut_data(df):\n",
    "    for column in df.columns:\n",
    "        print(\"cutting the\", column)\n",
    "        if(((df[column].dtype)=='float64')|((df[column].dtype)=='int64')):\n",
    "            percentiles = df[column].quantile([0.01,0.99]).values\n",
    "            df[column][df[column] <= percentiles[0]] = percentiles[0]\n",
    "            df[column][df[column] >= percentiles[1]] = percentiles[1]\n",
    "        else:\n",
    "            df[column] = df[column]\n",
    "    return df\n",
    "\n",
    "data= cut_data(data)\n"
   ]
  },
  {
   "cell_type": "code",
   "execution_count": 7,
   "id": "dbc6524b",
   "metadata": {},
   "outputs": [
    {
     "data": {
      "text/plain": [
       "60"
      ]
     },
     "execution_count": 7,
     "metadata": {},
     "output_type": "execute_result"
    }
   ],
   "source": [
    "data['AGE'].max()"
   ]
  },
  {
   "cell_type": "code",
   "execution_count": 12,
   "id": "a45eb1e1",
   "metadata": {},
   "outputs": [
    {
     "ename": "KeyError",
     "evalue": "\"None of [Index(['SEX', 'EDUCATION', 'MARRIAGE'], dtype='object')] are in the [columns]\"",
     "output_type": "error",
     "traceback": [
      "\u001b[1;31m---------------------------------------------------------------------------\u001b[0m",
      "\u001b[1;31mKeyError\u001b[0m                                  Traceback (most recent call last)",
      "Input \u001b[1;32mIn [12]\u001b[0m, in \u001b[0;36m<cell line: 2>\u001b[1;34m()\u001b[0m\n\u001b[0;32m      1\u001b[0m cat_vars\u001b[38;5;241m=\u001b[39m[\u001b[38;5;124m'\u001b[39m\u001b[38;5;124mSEX\u001b[39m\u001b[38;5;124m'\u001b[39m,\u001b[38;5;124m'\u001b[39m\u001b[38;5;124mEDUCATION\u001b[39m\u001b[38;5;124m'\u001b[39m,\u001b[38;5;124m'\u001b[39m\u001b[38;5;124mMARRIAGE\u001b[39m\u001b[38;5;124m'\u001b[39m]\n\u001b[1;32m----> 2\u001b[0m dummy_x\u001b[38;5;241m=\u001b[39m\u001b[43mpd\u001b[49m\u001b[38;5;241;43m.\u001b[39;49m\u001b[43mget_dummies\u001b[49m\u001b[43m(\u001b[49m\u001b[43mdata\u001b[49m\u001b[43m,\u001b[49m\u001b[43mcolumns\u001b[49m\u001b[38;5;241;43m=\u001b[39;49m\u001b[43mcat_vars\u001b[49m\u001b[43m,\u001b[49m\u001b[43mdrop_first\u001b[49m\u001b[38;5;241;43m=\u001b[39;49m\u001b[38;5;28;43;01mTrue\u001b[39;49;00m\u001b[43m)\u001b[49m\n",
      "File \u001b[1;32mE:\\New folder\\lib\\site-packages\\pandas\\core\\reshape\\reshape.py:931\u001b[0m, in \u001b[0;36mget_dummies\u001b[1;34m(data, prefix, prefix_sep, dummy_na, columns, sparse, drop_first, dtype)\u001b[0m\n\u001b[0;32m    929\u001b[0m     \u001b[38;5;28;01mraise\u001b[39;00m \u001b[38;5;167;01mTypeError\u001b[39;00m(\u001b[38;5;124m\"\u001b[39m\u001b[38;5;124mInput must be a list-like for parameter `columns`\u001b[39m\u001b[38;5;124m\"\u001b[39m)\n\u001b[0;32m    930\u001b[0m \u001b[38;5;28;01melse\u001b[39;00m:\n\u001b[1;32m--> 931\u001b[0m     data_to_encode \u001b[38;5;241m=\u001b[39m \u001b[43mdata\u001b[49m\u001b[43m[\u001b[49m\u001b[43mcolumns\u001b[49m\u001b[43m]\u001b[49m\n\u001b[0;32m    933\u001b[0m \u001b[38;5;66;03m# validate prefixes and separator to avoid silently dropping cols\u001b[39;00m\n\u001b[0;32m    934\u001b[0m \u001b[38;5;28;01mdef\u001b[39;00m \u001b[38;5;21mcheck_len\u001b[39m(item, name):\n",
      "File \u001b[1;32mE:\\New folder\\lib\\site-packages\\pandas\\core\\frame.py:3511\u001b[0m, in \u001b[0;36mDataFrame.__getitem__\u001b[1;34m(self, key)\u001b[0m\n\u001b[0;32m   3509\u001b[0m     \u001b[38;5;28;01mif\u001b[39;00m is_iterator(key):\n\u001b[0;32m   3510\u001b[0m         key \u001b[38;5;241m=\u001b[39m \u001b[38;5;28mlist\u001b[39m(key)\n\u001b[1;32m-> 3511\u001b[0m     indexer \u001b[38;5;241m=\u001b[39m \u001b[38;5;28;43mself\u001b[39;49m\u001b[38;5;241;43m.\u001b[39;49m\u001b[43mcolumns\u001b[49m\u001b[38;5;241;43m.\u001b[39;49m\u001b[43m_get_indexer_strict\u001b[49m\u001b[43m(\u001b[49m\u001b[43mkey\u001b[49m\u001b[43m,\u001b[49m\u001b[43m \u001b[49m\u001b[38;5;124;43m\"\u001b[39;49m\u001b[38;5;124;43mcolumns\u001b[39;49m\u001b[38;5;124;43m\"\u001b[39;49m\u001b[43m)\u001b[49m[\u001b[38;5;241m1\u001b[39m]\n\u001b[0;32m   3513\u001b[0m \u001b[38;5;66;03m# take() does not accept boolean indexers\u001b[39;00m\n\u001b[0;32m   3514\u001b[0m \u001b[38;5;28;01mif\u001b[39;00m \u001b[38;5;28mgetattr\u001b[39m(indexer, \u001b[38;5;124m\"\u001b[39m\u001b[38;5;124mdtype\u001b[39m\u001b[38;5;124m\"\u001b[39m, \u001b[38;5;28;01mNone\u001b[39;00m) \u001b[38;5;241m==\u001b[39m \u001b[38;5;28mbool\u001b[39m:\n",
      "File \u001b[1;32mE:\\New folder\\lib\\site-packages\\pandas\\core\\indexes\\base.py:5782\u001b[0m, in \u001b[0;36mIndex._get_indexer_strict\u001b[1;34m(self, key, axis_name)\u001b[0m\n\u001b[0;32m   5779\u001b[0m \u001b[38;5;28;01melse\u001b[39;00m:\n\u001b[0;32m   5780\u001b[0m     keyarr, indexer, new_indexer \u001b[38;5;241m=\u001b[39m \u001b[38;5;28mself\u001b[39m\u001b[38;5;241m.\u001b[39m_reindex_non_unique(keyarr)\n\u001b[1;32m-> 5782\u001b[0m \u001b[38;5;28;43mself\u001b[39;49m\u001b[38;5;241;43m.\u001b[39;49m\u001b[43m_raise_if_missing\u001b[49m\u001b[43m(\u001b[49m\u001b[43mkeyarr\u001b[49m\u001b[43m,\u001b[49m\u001b[43m \u001b[49m\u001b[43mindexer\u001b[49m\u001b[43m,\u001b[49m\u001b[43m \u001b[49m\u001b[43maxis_name\u001b[49m\u001b[43m)\u001b[49m\n\u001b[0;32m   5784\u001b[0m keyarr \u001b[38;5;241m=\u001b[39m \u001b[38;5;28mself\u001b[39m\u001b[38;5;241m.\u001b[39mtake(indexer)\n\u001b[0;32m   5785\u001b[0m \u001b[38;5;28;01mif\u001b[39;00m \u001b[38;5;28misinstance\u001b[39m(key, Index):\n\u001b[0;32m   5786\u001b[0m     \u001b[38;5;66;03m# GH 42790 - Preserve name from an Index\u001b[39;00m\n",
      "File \u001b[1;32mE:\\New folder\\lib\\site-packages\\pandas\\core\\indexes\\base.py:5842\u001b[0m, in \u001b[0;36mIndex._raise_if_missing\u001b[1;34m(self, key, indexer, axis_name)\u001b[0m\n\u001b[0;32m   5840\u001b[0m     \u001b[38;5;28;01mif\u001b[39;00m use_interval_msg:\n\u001b[0;32m   5841\u001b[0m         key \u001b[38;5;241m=\u001b[39m \u001b[38;5;28mlist\u001b[39m(key)\n\u001b[1;32m-> 5842\u001b[0m     \u001b[38;5;28;01mraise\u001b[39;00m \u001b[38;5;167;01mKeyError\u001b[39;00m(\u001b[38;5;124mf\u001b[39m\u001b[38;5;124m\"\u001b[39m\u001b[38;5;124mNone of [\u001b[39m\u001b[38;5;132;01m{\u001b[39;00mkey\u001b[38;5;132;01m}\u001b[39;00m\u001b[38;5;124m] are in the [\u001b[39m\u001b[38;5;132;01m{\u001b[39;00maxis_name\u001b[38;5;132;01m}\u001b[39;00m\u001b[38;5;124m]\u001b[39m\u001b[38;5;124m\"\u001b[39m)\n\u001b[0;32m   5844\u001b[0m not_found \u001b[38;5;241m=\u001b[39m \u001b[38;5;28mlist\u001b[39m(ensure_index(key)[missing_mask\u001b[38;5;241m.\u001b[39mnonzero()[\u001b[38;5;241m0\u001b[39m]]\u001b[38;5;241m.\u001b[39munique())\n\u001b[0;32m   5845\u001b[0m \u001b[38;5;28;01mraise\u001b[39;00m \u001b[38;5;167;01mKeyError\u001b[39;00m(\u001b[38;5;124mf\u001b[39m\u001b[38;5;124m\"\u001b[39m\u001b[38;5;132;01m{\u001b[39;00mnot_found\u001b[38;5;132;01m}\u001b[39;00m\u001b[38;5;124m not in index\u001b[39m\u001b[38;5;124m\"\u001b[39m)\n",
      "\u001b[1;31mKeyError\u001b[0m: \"None of [Index(['SEX', 'EDUCATION', 'MARRIAGE'], dtype='object')] are in the [columns]\""
     ]
    }
   ],
   "source": [
    "cat_vars=['SEX','EDUCATION','MARRIAGE']\n",
    "dummy_x=pd.get_dummies(data,columns=cat_vars,drop_first=True)"
   ]
  },
  {
   "cell_type": "code",
   "execution_count": 10,
   "id": "fc778827",
   "metadata": {},
   "outputs": [
    {
     "ename": "NameError",
     "evalue": "name 'dummy_x' is not defined",
     "output_type": "error",
     "traceback": [
      "\u001b[1;31m---------------------------------------------------------------------------\u001b[0m",
      "\u001b[1;31mNameError\u001b[0m                                 Traceback (most recent call last)",
      "Input \u001b[1;32mIn [10]\u001b[0m, in \u001b[0;36m<cell line: 1>\u001b[1;34m()\u001b[0m\n\u001b[1;32m----> 1\u001b[0m x\u001b[38;5;241m=\u001b[39m\u001b[43mdummy_x\u001b[49m\u001b[38;5;241m.\u001b[39mdrop(\u001b[38;5;124m'\u001b[39m\u001b[38;5;124mID\u001b[39m\u001b[38;5;124m'\u001b[39m,axis\u001b[38;5;241m=\u001b[39m\u001b[38;5;241m1\u001b[39m)\n\u001b[0;32m      2\u001b[0m x\u001b[38;5;241m=\u001b[39mx\u001b[38;5;241m.\u001b[39mdrop(\u001b[38;5;124m'\u001b[39m\u001b[38;5;124mdefault \u001b[39m\u001b[38;5;124m'\u001b[39m,axis\u001b[38;5;241m=\u001b[39m\u001b[38;5;241m1\u001b[39m)\n",
      "\u001b[1;31mNameError\u001b[0m: name 'dummy_x' is not defined"
     ]
    }
   ],
   "source": [
    "x=dummy_x.drop('ID',axis=1)\n",
    "x=x.drop('default ',axis=1)"
   ]
  },
  {
   "cell_type": "code",
   "execution_count": 13,
   "id": "2c1a111e",
   "metadata": {},
   "outputs": [
    {
     "ename": "NameError",
     "evalue": "name 'x' is not defined",
     "output_type": "error",
     "traceback": [
      "\u001b[1;31m---------------------------------------------------------------------------\u001b[0m",
      "\u001b[1;31mNameError\u001b[0m                                 Traceback (most recent call last)",
      "Input \u001b[1;32mIn [13]\u001b[0m, in \u001b[0;36m<cell line: 1>\u001b[1;34m()\u001b[0m\n\u001b[1;32m----> 1\u001b[0m \u001b[43mx\u001b[49m\u001b[38;5;241m.\u001b[39mhead()\n",
      "\u001b[1;31mNameError\u001b[0m: name 'x' is not defined"
     ]
    }
   ],
   "source": [
    "x.head()"
   ]
  },
  {
   "cell_type": "code",
   "execution_count": null,
   "id": "89881c20",
   "metadata": {},
   "outputs": [],
   "source": [
    "y=data['default ']"
   ]
  },
  {
   "cell_type": "code",
   "execution_count": null,
   "id": "a1e91f35",
   "metadata": {},
   "outputs": [],
   "source": [
    "# this is an optional step\n",
    "# either create using dummies or using where\n",
    "# dummmy_y=pd.get_dummies(data['churn'],drop_first=True)\n",
    "y= np.where(data['default ']=='Y',1,0)\n"
   ]
  },
  {
   "cell_type": "code",
   "execution_count": 9,
   "id": "b62cc1c8",
   "metadata": {},
   "outputs": [
    {
     "ename": "NameError",
     "evalue": "name 'y' is not defined",
     "output_type": "error",
     "traceback": [
      "\u001b[1;31m---------------------------------------------------------------------------\u001b[0m",
      "\u001b[1;31mNameError\u001b[0m                                 Traceback (most recent call last)",
      "Input \u001b[1;32mIn [9]\u001b[0m, in \u001b[0;36m<cell line: 1>\u001b[1;34m()\u001b[0m\n\u001b[1;32m----> 1\u001b[0m \u001b[43my\u001b[49m\n",
      "\u001b[1;31mNameError\u001b[0m: name 'y' is not defined"
     ]
    }
   ],
   "source": [
    "y"
   ]
  },
  {
   "cell_type": "code",
   "execution_count": null,
   "id": "0d9f4d48",
   "metadata": {},
   "outputs": [],
   "source": [
    "from sklearn.model_selection import train_test_split\n"
   ]
  },
  {
   "cell_type": "code",
   "execution_count": null,
   "id": "34789406",
   "metadata": {},
   "outputs": [],
   "source": [
    "x_train,x_test,y_train,y_test = train_test_split(x,y,test_size = 0.2,random_state=42)\n",
    "x_train.shape"
   ]
  },
  {
   "cell_type": "code",
   "execution_count": null,
   "id": "db80898e",
   "metadata": {},
   "outputs": [],
   "source": [
    "from sklearn.linear_model import LogisticRegression\n",
    "#creating on object of LinearRegression class\n",
    "\n",
    "LR= LogisticRegression()\n",
    "#fitting the training data\n",
    "#.fit is model creation function\n",
    "\n",
    "LR.fit(x_train,y_train)"
   ]
  },
  {
   "cell_type": "code",
   "execution_count": null,
   "id": "64bc8a28",
   "metadata": {},
   "outputs": [],
   "source": [
    "LR.intercept_"
   ]
  },
  {
   "cell_type": "code",
   "execution_count": null,
   "id": "23f5ba50",
   "metadata": {},
   "outputs": [],
   "source": [
    "LR.coef_"
   ]
  },
  {
   "cell_type": "code",
   "execution_count": null,
   "id": "9093b24a",
   "metadata": {},
   "outputs": [],
   "source": [
    "y_pred_test=LR.predict(x_test)\n",
    "LR.score(x_test,y_test,sample_weight=None)\n",
    "y_pred_test"
   ]
  },
  {
   "cell_type": "code",
   "execution_count": null,
   "id": "225f5187",
   "metadata": {},
   "outputs": [],
   "source": [
    "from sklearn import metrics\n",
    "acc=metrics.accuracy_score(y_test,y_pred_test)\n",
    "print('the accuracy is: ', acc)\n",
    "acc=metrics.precision_score(y_test,y_pred_test)\n",
    "print('the precision is: ', acc)\n",
    "acc=metrics.recall_score(y_test,y_pred_test)\n",
    "print('the recall is: ', acc)\n",
    "acc=metrics.roc_auc_score(y_test,y_pred_test)\n",
    "print('the roc is: ', acc)\n",
    "\n"
   ]
  },
  {
   "cell_type": "code",
   "execution_count": null,
   "id": "c47384a6",
   "metadata": {},
   "outputs": [],
   "source": [
    "y_pred_train=LR.predict(x_train)\n",
    "LR.score(x_train,y_train,sample_weight=None)\n",
    "y_pred_train"
   ]
  },
  {
   "cell_type": "code",
   "execution_count": null,
   "id": "917fff06",
   "metadata": {},
   "outputs": [],
   "source": []
  },
  {
   "cell_type": "code",
   "execution_count": null,
   "id": "ef875728",
   "metadata": {},
   "outputs": [],
   "source": [
    "from sklearn import metrics\n",
    "acc=metrics.accuracy_score(y_train,y_pred_train)\n",
    "print('the accuracy is: ', acc)\n",
    "acc=metrics.precision_score(y_train,y_pred_train)\n",
    "print('the precision is: ', acc)\n",
    "acc=metrics.recall_score(y_train,y_pred_train)\n",
    "print('the recall is: ', acc)\n",
    "acc=metrics.roc_auc_score(y_train,y_pred_train)\n",
    "print('the roc is: ', acc)"
   ]
  },
  {
   "cell_type": "code",
   "execution_count": null,
   "id": "d04abb7f",
   "metadata": {},
   "outputs": [],
   "source": [
    "#creatingg a RF classifier\n",
    "from sklearn.ensemble import RandomForestClassifier\n",
    "clf_rf = RandomForestClassifier(n_estimators = 100)\n",
    "\n",
    "#training the model on the training dataset\n",
    "# fit function is used to train the model using the training sets as parameters\n",
    "clf_rf.fit(x_train, y_train)\n",
    "\n",
    "# performing predictions on the testdataset\n",
    "y_pred_rf = clf_rf.predict(x_train)\n",
    "\n",
    "y_pred_rf_prod= clf_rf.predict_proba(x_test)"
   ]
  },
  {
   "cell_type": "code",
   "execution_count": null,
   "id": "63edd475",
   "metadata": {},
   "outputs": [],
   "source": [
    "from sklearn import metrics\n",
    "acc1=metrics.accuracy_score(y_train,y_pred_rf)\n",
    "print('the accuracy is: ', acc1)\n",
    "acc1=metrics.precision_score(y_train,y_pred_rf)\n",
    "print('the precision is: ', acc1)\n",
    "acc1=metrics.recall_score(y_train,y_pred_rf)\n",
    "print('the recall is: ', acc1)\n",
    "acc1=metrics.roc_auc_score(y_train,y_pred_rf)\n",
    "print('the roc is: ', acc1)"
   ]
  },
  {
   "cell_type": "code",
   "execution_count": null,
   "id": "4866ccf4",
   "metadata": {},
   "outputs": [],
   "source": [
    "x_train[\"y_pred_train\"]=y_pred_train\n",
    "x_train"
   ]
  },
  {
   "cell_type": "code",
   "execution_count": null,
   "id": "a4a7bc0f",
   "metadata": {},
   "outputs": [],
   "source": [
    "x_train['y_train']=y_train\n",
    "x_train"
   ]
  },
  {
   "cell_type": "code",
   "execution_count": null,
   "id": "985dcb9e",
   "metadata": {},
   "outputs": [],
   "source": [
    "x_train.to_csv('C:\\\\Users\\\\Harish Kate\\\\Documents\\\\Credit Card Defaulter Predictionnew.csv', index= False)"
   ]
  },
  {
   "cell_type": "code",
   "execution_count": null,
   "id": "64e7f107",
   "metadata": {},
   "outputs": [],
   "source": [
    "from\n",
    "clf.rf.fit(x_train, y_train)\n",
    "y_pred_rf = clf_rf.predict(x_test)\n",
    "y_pred_rf_prod= clf_rf.predict_proba(x_test)"
   ]
  }
 ],
 "metadata": {
  "kernelspec": {
   "display_name": "Python 3 (ipykernel)",
   "language": "python",
   "name": "python3"
  },
  "language_info": {
   "codemirror_mode": {
    "name": "ipython",
    "version": 3
   },
   "file_extension": ".py",
   "mimetype": "text/x-python",
   "name": "python",
   "nbconvert_exporter": "python",
   "pygments_lexer": "ipython3",
   "version": "3.9.12"
  }
 },
 "nbformat": 4,
 "nbformat_minor": 5
}
