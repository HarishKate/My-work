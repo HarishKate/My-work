{
 "cells": [
  {
   "cell_type": "code",
   "execution_count": 4,
   "metadata": {
    "collapsed": true
   },
   "outputs": [],
   "source": [
    "#importing packages\n",
    "import pandas as pd\n",
    "import numpy as np\n",
    "import os as os\n",
    "from sklearn.cluster import KMeans\n",
    "from sklearn import preprocessing\n",
    "import matplotlib.pyplot as plt\n",
    "import matplotlib\n",
    "%matplotlib inline\n",
    "from scipy.cluster.hierarchy import linkage, dendrogram\n",
    "from scipy.spatial.distance import pdist\n",
    "from scipy.spatial.distance import cdist"
   ]
  },
  {
   "cell_type": "code",
   "execution_count": 6,
   "metadata": {},
   "outputs": [
    {
     "data": {
      "text/html": [
       "<div>\n",
       "<style>\n",
       "    .dataframe thead tr:only-child th {\n",
       "        text-align: right;\n",
       "    }\n",
       "\n",
       "    .dataframe thead th {\n",
       "        text-align: left;\n",
       "    }\n",
       "\n",
       "    .dataframe tbody tr th {\n",
       "        vertical-align: top;\n",
       "    }\n",
       "</style>\n",
       "<table border=\"1\" class=\"dataframe\">\n",
       "  <thead>\n",
       "    <tr style=\"text-align: right;\">\n",
       "      <th></th>\n",
       "      <th>Area</th>\n",
       "      <th>GDP</th>\n",
       "      <th>Inflation</th>\n",
       "      <th>Life.expect</th>\n",
       "      <th>Military</th>\n",
       "      <th>Pop.growth</th>\n",
       "      <th>Unemployment</th>\n",
       "    </tr>\n",
       "  </thead>\n",
       "  <tbody>\n",
       "    <tr>\n",
       "      <th>0</th>\n",
       "      <td>83871</td>\n",
       "      <td>41600</td>\n",
       "      <td>3.5</td>\n",
       "      <td>79.91</td>\n",
       "      <td>0.80</td>\n",
       "      <td>0.03</td>\n",
       "      <td>4.2</td>\n",
       "    </tr>\n",
       "    <tr>\n",
       "      <th>1</th>\n",
       "      <td>30528</td>\n",
       "      <td>37800</td>\n",
       "      <td>3.5</td>\n",
       "      <td>79.65</td>\n",
       "      <td>1.30</td>\n",
       "      <td>0.06</td>\n",
       "      <td>7.2</td>\n",
       "    </tr>\n",
       "    <tr>\n",
       "      <th>2</th>\n",
       "      <td>110879</td>\n",
       "      <td>13800</td>\n",
       "      <td>4.2</td>\n",
       "      <td>73.84</td>\n",
       "      <td>2.60</td>\n",
       "      <td>-0.80</td>\n",
       "      <td>9.6</td>\n",
       "    </tr>\n",
       "    <tr>\n",
       "      <th>3</th>\n",
       "      <td>56594</td>\n",
       "      <td>18000</td>\n",
       "      <td>2.3</td>\n",
       "      <td>75.99</td>\n",
       "      <td>2.39</td>\n",
       "      <td>-0.09</td>\n",
       "      <td>17.7</td>\n",
       "    </tr>\n",
       "    <tr>\n",
       "      <th>4</th>\n",
       "      <td>78867</td>\n",
       "      <td>27100</td>\n",
       "      <td>1.9</td>\n",
       "      <td>77.38</td>\n",
       "      <td>1.15</td>\n",
       "      <td>-0.13</td>\n",
       "      <td>8.5</td>\n",
       "    </tr>\n",
       "  </tbody>\n",
       "</table>\n",
       "</div>"
      ],
      "text/plain": [
       "     Area    GDP  Inflation  Life.expect  Military  Pop.growth  Unemployment\n",
       "0   83871  41600        3.5        79.91      0.80        0.03           4.2\n",
       "1   30528  37800        3.5        79.65      1.30        0.06           7.2\n",
       "2  110879  13800        4.2        73.84      2.60       -0.80           9.6\n",
       "3   56594  18000        2.3        75.99      2.39       -0.09          17.7\n",
       "4   78867  27100        1.9        77.38      1.15       -0.13           8.5"
      ]
     },
     "execution_count": 6,
     "metadata": {},
     "output_type": "execute_result"
    }
   ],
   "source": [
    "#Reading dataset and getting variables to be considered for clustering\n",
    "dat = pd.read_csv('D:/europe11.csv')\n",
    "dat1 = dat.drop('Country', axis=1)\n",
    "dat1.head()\n",
    "#dat1.describe"
   ]
  },
  {
   "cell_type": "code",
   "execution_count": 7,
   "metadata": {
    "collapsed": true
   },
   "outputs": [],
   "source": [
    "#scaling the variables\n",
    "X_scaled = preprocessing.scale(dat1)"
   ]
  },
  {
   "cell_type": "code",
   "execution_count": 8,
   "metadata": {
    "collapsed": true
   },
   "outputs": [],
   "source": [
    "K = range(1,15)\n",
    "KM = [KMeans(n_clusters=k).fit(X_scaled) for k in K]\n",
    "centroids = [k.cluster_centers_ for k in KM]\n",
    "#print(\"KMeans \\n\",KM)\n",
    "#print(\"KMeans \\n\",KM,\"Centroid \\n\",centroids)"
   ]
  },
  {
   "cell_type": "code",
   "execution_count": 9,
   "metadata": {
    "collapsed": true
   },
   "outputs": [],
   "source": [
    "#Calculate the distance of the points from the centre of the cluster to calculate the \n",
    "#within sum of squares\n",
    "D_k = [cdist(X_scaled, cent, 'euclidean') for cent in centroids]\n",
    "#for each K(between 1 to 14) finding with which cluster, the distance for each observation is minimum\n",
    "cIdx = [np.argmin(D,axis=1) for D in D_k]"
   ]
  },
  {
   "cell_type": "code",
   "execution_count": 10,
   "metadata": {
    "collapsed": true
   },
   "outputs": [],
   "source": [
    "#for each K(between 1 to 14) finding the minimum distance of each observation with centroid\n",
    "dist = [np.min(D,axis=1) for D in D_k]"
   ]
  },
  {
   "cell_type": "code",
   "execution_count": 11,
   "metadata": {
    "collapsed": true
   },
   "outputs": [],
   "source": [
    "avgWithinSS = [sum(d)/X_scaled.shape[0] for d in dist]"
   ]
  },
  {
   "cell_type": "code",
   "execution_count": 12,
   "metadata": {},
   "outputs": [
    {
     "name": "stdout",
     "output_type": "stream",
     "text": [
      "[196.0, 132.62749228525956, 106.50236499129628, 85.973992724742516, 72.174611072542206, 63.555401102544444, 51.877754858047936, 44.195997405857035, 38.293048637723864, 31.739491568107869, 27.949699264176356, 23.755641054610539, 20.09250677052561, 16.991947585761764]\n"
     ]
    }
   ],
   "source": [
    "# Total with-in sum of square\n",
    "wcss = [sum(d**2) for d in dist]\n",
    "tss = sum(pdist(X_scaled)**2)/X_scaled.shape[0]\n",
    "bss = tss-wcss\n",
    "print(wcss)\n",
    "#kIdx = 10-1"
   ]
  },
  {
   "cell_type": "code",
   "execution_count": 13,
   "metadata": {},
   "outputs": [
    {
     "data": {
      "text/plain": [
       "Text(0.5,1,'Elbow for KMeans clustering')"
      ]
     },
     "execution_count": 13,
     "metadata": {},
     "output_type": "execute_result"
    },
    {
     "data": {
      "image/png": "[encoded data removed]",
      "text/plain": [
       "<matplotlib.figure.Figure at 0x23c03a44ba8>"
      ]
     },
     "metadata": {},
     "output_type": "display_data"
    }
   ],
   "source": [
    "# elbow curve\n",
    "fig = plt.figure()\n",
    "ax = fig.add_subplot(111)\n",
    "ax.plot(K, wcss, 'b*-')\n",
    "#ax.plot(K[kIdx], wcss[kIdx])\n",
    "plt.grid(True)\n",
    "plt.xlabel('Number of clusters')\n",
    "plt.ylabel('Average within-cluster sum of squares')\n",
    "plt.title('Elbow for KMeans clustering')"
   ]
  },
  {
   "cell_type": "code",
   "execution_count": 14,
   "metadata": {},
   "outputs": [
    {
     "data": {
      "text/html": [
       "<div>\n",
       "<style>\n",
       "    .dataframe thead tr:only-child th {\n",
       "        text-align: right;\n",
       "    }\n",
       "\n",
       "    .dataframe thead th {\n",
       "        text-align: left;\n",
       "    }\n",
       "\n",
       "    .dataframe tbody tr th {\n",
       "        vertical-align: top;\n",
       "    }\n",
       "</style>\n",
       "<table border=\"1\" class=\"dataframe\">\n",
       "  <thead>\n",
       "    <tr style=\"text-align: right;\">\n",
       "      <th></th>\n",
       "      <th>Country</th>\n",
       "      <th>Area</th>\n",
       "      <th>GDP</th>\n",
       "      <th>Inflation</th>\n",
       "      <th>Life.expect</th>\n",
       "      <th>Military</th>\n",
       "      <th>Pop.growth</th>\n",
       "      <th>Unemployment</th>\n",
       "      <th>Cluster</th>\n",
       "    </tr>\n",
       "  </thead>\n",
       "  <tbody>\n",
       "    <tr>\n",
       "      <th>0</th>\n",
       "      <td>Austria</td>\n",
       "      <td>83871</td>\n",
       "      <td>41600</td>\n",
       "      <td>3.5</td>\n",
       "      <td>79.91</td>\n",
       "      <td>0.80</td>\n",
       "      <td>0.03</td>\n",
       "      <td>4.2</td>\n",
       "      <td>1</td>\n",
       "    </tr>\n",
       "    <tr>\n",
       "      <th>1</th>\n",
       "      <td>Belgium</td>\n",
       "      <td>30528</td>\n",
       "      <td>37800</td>\n",
       "      <td>3.5</td>\n",
       "      <td>79.65</td>\n",
       "      <td>1.30</td>\n",
       "      <td>0.06</td>\n",
       "      <td>7.2</td>\n",
       "      <td>1</td>\n",
       "    </tr>\n",
       "    <tr>\n",
       "      <th>2</th>\n",
       "      <td>Bulgaria</td>\n",
       "      <td>110879</td>\n",
       "      <td>13800</td>\n",
       "      <td>4.2</td>\n",
       "      <td>73.84</td>\n",
       "      <td>2.60</td>\n",
       "      <td>-0.80</td>\n",
       "      <td>9.6</td>\n",
       "      <td>2</td>\n",
       "    </tr>\n",
       "    <tr>\n",
       "      <th>3</th>\n",
       "      <td>Croatia</td>\n",
       "      <td>56594</td>\n",
       "      <td>18000</td>\n",
       "      <td>2.3</td>\n",
       "      <td>75.99</td>\n",
       "      <td>2.39</td>\n",
       "      <td>-0.09</td>\n",
       "      <td>17.7</td>\n",
       "      <td>2</td>\n",
       "    </tr>\n",
       "    <tr>\n",
       "      <th>4</th>\n",
       "      <td>Czech Republic</td>\n",
       "      <td>78867</td>\n",
       "      <td>27100</td>\n",
       "      <td>1.9</td>\n",
       "      <td>77.38</td>\n",
       "      <td>1.15</td>\n",
       "      <td>-0.13</td>\n",
       "      <td>8.5</td>\n",
       "      <td>2</td>\n",
       "    </tr>\n",
       "  </tbody>\n",
       "</table>\n",
       "</div>"
      ],
      "text/plain": [
       "          Country    Area    GDP  Inflation  Life.expect  Military  \\\n",
       "0         Austria   83871  41600        3.5        79.91      0.80   \n",
       "1         Belgium   30528  37800        3.5        79.65      1.30   \n",
       "2        Bulgaria  110879  13800        4.2        73.84      2.60   \n",
       "3         Croatia   56594  18000        2.3        75.99      2.39   \n",
       "4  Czech Republic   78867  27100        1.9        77.38      1.15   \n",
       "\n",
       "   Pop.growth  Unemployment  Cluster  \n",
       "0        0.03           4.2        1  \n",
       "1        0.06           7.2        1  \n",
       "2       -0.80           9.6        2  \n",
       "3       -0.09          17.7        2  \n",
       "4       -0.13           8.5        2  "
      ]
     },
     "execution_count": 14,
     "metadata": {},
     "output_type": "execute_result"
    }
   ],
   "source": [
    "#Finalize the cluster\n",
    "kmeans = KMeans(n_clusters=4, random_state=10).fit(X_scaled)\n",
    "clusters=pd.DataFrame(kmeans.labels_, columns=['Cluster'])\n",
    "dat = pd.concat([dat, clusters], axis=1)\n",
    "dat.head()"
   ]
  },
  {
   "cell_type": "code",
   "execution_count": 15,
   "metadata": {},
   "outputs": [
    {
     "name": "stderr",
     "output_type": "stream",
     "text": [
      "E:\\anaconda\\lib\\site-packages\\ipykernel_launcher.py:8: DeprecationWarning: \n",
      ".ix is deprecated. Please use\n",
      ".loc for label based indexing or\n",
      ".iloc for positional indexing\n",
      "\n",
      "See the documentation here:\n",
      "http://pandas.pydata.org/pandas-docs/stable/indexing.html#ix-indexer-is-deprecated\n",
      "  \n",
      "E:\\anaconda\\lib\\site-packages\\ipykernel_launcher.py:10: DeprecationWarning: \n",
      ".ix is deprecated. Please use\n",
      ".loc for label based indexing or\n",
      ".iloc for positional indexing\n",
      "\n",
      "See the documentation here:\n",
      "http://pandas.pydata.org/pandas-docs/stable/indexing.html#ix-indexer-is-deprecated\n",
      "  # Remove the CWD from sys.path while we load stuff.\n"
     ]
    },
    {
     "data": {
      "image/png": "[encoded data removed]",
      "text/plain": [
       "<matplotlib.figure.Figure at 0x23c039e24e0>"
      ]
     },
     "metadata": {},
     "output_type": "display_data"
    }
   ],
   "source": [
    "centers = pd.DataFrame(kmeans.cluster_centers_, columns=dat1.columns)\n",
    "\n",
    "centroids = kmeans.cluster_centers_\n",
    "labels = kmeans.labels_\n",
    "colors = [\"g.\",\"r.\",\"b.\",\"y.\"]\n",
    "\n",
    "#Plots the clusters in a 2D\n",
    "X= pd.DataFrame(X_scaled).ix[:,0:1]\n",
    "for i in range(len(dat1)):\n",
    "    plt.plot(X.ix[i,0], X.ix[i,1], colors[labels[i]], markersize = 10)\n",
    "#plt.scatter(centroids[:, 0],centroids[:, 1], marker = \"x\", s=150, linewidths = 5, zorder = 10)\n",
    "plt.show()"
   ]
  },
  {
   "cell_type": "code",
   "execution_count": 16,
   "metadata": {
    "collapsed": true
   },
   "outputs": [],
   "source": [
    "#Hierarchial Clustering\n",
    "data_dist = pdist(X_scaled) # computing the distance\n"
   ]
  },
  {
   "cell_type": "code",
   "execution_count": 17,
   "metadata": {
    "collapsed": true
   },
   "outputs": [],
   "source": [
    "data_link = linkage(data_dist, method='complete') # computing the linkage\n"
   ]
  },
  {
   "cell_type": "code",
   "execution_count": 18,
   "metadata": {},
   "outputs": [
    {
     "data": {
      "text/plain": [
       "Text(0.5,0.98,'Clustering')"
      ]
     },
     "execution_count": 18,
     "metadata": {},
     "output_type": "execute_result"
    },
    {
     "data": {
      "image/png": "[encoded data removed]",
      "text/plain": [
       "<matplotlib.figure.Figure at 0x23c03a50470>"
      ]
     },
     "metadata": {},
     "output_type": "display_data"
    }
   ],
   "source": [
    "dendrogram(data_link, labels=list(dat.Country))\n",
    "plt.xlabel('Country')\n",
    "plt.ylabel('Distance')\n",
    "plt.suptitle('Clustering', fontweight='bold', fontsize=10)"
   ]
  }
 ],
 "metadata": {
  "kernelspec": {
   "display_name": "Python 3 (ipykernel)",
   "language": "python",
   "name": "python3"
  },
  "language_info": {
   "codemirror_mode": {
    "name": "ipython",
    "version": 3
   },
   "file_extension": ".py",
   "mimetype": "text/x-python",
   "name": "python",
   "nbconvert_exporter": "python",
   "pygments_lexer": "ipython3",
   "version": "3.9.12"
  }
 },
 "nbformat": 4,
 "nbformat_minor": 2
}
